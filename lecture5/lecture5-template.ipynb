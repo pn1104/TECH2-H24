{
 "cells": [
  {
   "attachments": {},
   "cell_type": "markdown",
   "metadata": {
    "collapsed": true,
    "pycharm": {
     "name": "#%% md\n"
    }
   },
   "source": [
    "# Plotting with Matplotlib\n",
    "\n",
    "Needs to be imported before use:\n",
    "\n",
    "```python\n",
    "import matplotlib.pyplot as plt\n",
    "```"
   ]
  },
  {
   "attachments": {},
   "cell_type": "markdown",
   "metadata": {
    "pycharm": {
     "name": "#%% md\n"
    }
   },
   "source": [
    "***\n",
    "## Line plots\n",
    "\n",
    "- Simplest plotting function is [`plot()`](https://matplotlib.org/stable/api/_as_gen/matplotlib.pyplot.plot.html)\n",
    "- Need to specify $y$-values, $x$-values are optional"
   ]
  },
  {
   "cell_type": "markdown",
   "metadata": {},
   "source": [
    "*Example: plot list of y-values*"
   ]
  },
  {
   "cell_type": "markdown",
   "metadata": {},
   "source": [
    "*Example: plot y-values vs. x-values*"
   ]
  },
  {
   "cell_type": "markdown",
   "metadata": {},
   "source": [
    "*Example: plot multiple lines in one figure*"
   ]
  },
  {
   "attachments": {},
   "cell_type": "markdown",
   "metadata": {
    "pycharm": {
     "name": "#%% md\n"
    }
   },
   "source": [
    "\n",
    "#### Colors (see [here](https://matplotlib.org/stable/tutorials/colors/colors.html) for details):\n",
    "\n",
    "- `b`: blue\n",
    "- `g`: green\n",
    "- `r`: red\n",
    "- `c`: cyan\n",
    "- `m`: magenta\n",
    "- `y`: yellow\n",
    "- `k`: black\n",
    "- `w`: white\n",
    "\n",
    "#### Line styles\n",
    "\n",
    "-   `-` solid line\n",
    "-   `--` dashed line\n",
    "-   `-.` dash-dotted line\n",
    "-   `:` dotted line\n",
    "\n",
    "#### Markers (see [here](https://matplotlib.org/stable/api/markers_api.html) for more):\n",
    "\n",
    "- `o`: circle\n",
    "- `s`: square\n",
    "- `*`: star\n",
    "- `x`: x\n",
    "- `d`: (thin) diamond"
   ]
  },
  {
   "cell_type": "markdown",
   "metadata": {},
   "source": [
    "*Example: plotting with multiple calls to `plot()`*"
   ]
  },
  {
   "attachments": {},
   "cell_type": "markdown",
   "metadata": {},
   "source": [
    "*Example: granular control over plot styles*\n",
    "\n",
    "- `c` or `color`\n",
    "- `ls` or `linestyle`\n",
    "- `lw` or `linewidth`\n",
    "- `marker`\n",
    "- `ms` or `markersize`\n",
    "- `alpha` (for transparency)\n",
    "\n",
    "Details: See _Other Parameters_ section in [`plot()`](https://matplotlib.org/stable/api/_as_gen/matplotlib.pyplot.plot.html)"
   ]
  },
  {
   "cell_type": "markdown",
   "metadata": {},
   "source": [
    "<div class=\"alert alert-info\">\n",
    "<h3> Your turn</h3>\n",
    "Use the data files located in the folder <TT>../data/FRED</TT> to perform the following tasks:\n",
    "<ol>\n",
    "    <li>Load the data in <TT>REALRATE.csv</TT> and <TT>FEDFUNDS.csv</TT> into two different DataFrames.\n",
    "        The files contain the 1-year real interest rate and the Federal Funds rate at monthly frequency.\n",
    "        <br/>\n",
    "        <i>Hint:</i> Use <TT>pd.read_csv(..., parse_dates=['DATE'], index_col='DATE')</TT> to automatically parse strings stored in the <TT>DATE</TT> column as dates and set <TT>DATE</TT> as the index.\n",
    "        </li>\n",
    "    <li>Plot the <TT>REALRATE</TT> using a blue dashed line with line width 0.5 and <TT>FEDFUNDS</TT> using an orange line with line width 0.75 in the <i>same</i> figure.</li>\n",
    "</ol>\n",
    "</div>"
   ]
  },
  {
   "attachments": {},
   "cell_type": "markdown",
   "metadata": {},
   "source": [
    "***\n",
    "## Scatter plots\n",
    "\n",
    "- Plot a sequence of $y$-values against a sequence of $x$-values\n",
    "- Optional: Assign colors or marker sizes to each individual point\n",
    "- See [`scatter()`](https://matplotlib.org/stable/api/_as_gen/matplotlib.pyplot.scatter.html) "
   ]
  },
  {
   "cell_type": "markdown",
   "metadata": {},
   "source": [
    "*Example: Randomly generated scatter plot*"
   ]
  },
  {
   "cell_type": "markdown",
   "metadata": {},
   "source": [
    "*Example: Set individual marker sizes*"
   ]
  },
  {
   "cell_type": "markdown",
   "metadata": {},
   "source": [
    "<div class=\"alert alert-info\">\n",
    "<h3> Your turn</h3>\n",
    "Use the data files located in the folder <TT>../data/FRED</TT> to perform the following tasks:\n",
    "<ol>\n",
    "    <li>Load the data in <TT>REALRATE.csv</TT> and <TT>FEDFUNDS.csv</TT> into two different DataFrames.\n",
    "        The files contain the 1-year real interest rate and the Federal Funds rate at monthly frequency.\n",
    "        <br/>\n",
    "        <i>Hint:</i> Use <TT>pd.read_csv(..., parse_dates=['DATE'], index_col='DATE')</TT> to automatically parse strings stored in the <TT>DATE</TT> column as dates and set <TT>DATE</TT> as the index.\n",
    "        </li>\n",
    "    <li>Create a scatter plot of <TT>REALRATE</TT> (on the y-axis) against <TT>FEDFUNDS</TT> (on the x-axis).\n",
    "    Specify the arguments <TT>edgecolors='blue'</TT> and <TT>color='none'</TT> to plot the data as blue rings.\n",
    "    <br/>\n",
    "    <i>Hint:</i> <TT>scatter()</TT> requires the arguments to be of equal length, which is not the case here.\n",
    "    Restrict the data to the same time period, for example by using <TT>join(..., how='inner')</TT>.\n",
    "    </li>\n",
    "</ol>\n",
    "</div>"
   ]
  },
  {
   "attachments": {},
   "cell_type": "markdown",
   "metadata": {
    "pycharm": {
     "name": "#%% md\n"
    }
   },
   "source": [
    "***\n",
    "## Plotting categorical data\n",
    "\n",
    "- Discrete (small) number of values on $x$-axis\n",
    "- Vertical bars: [`bar()`](https://matplotlib.org/stable/api/_as_gen/matplotlib.pyplot.bar.html)\n",
    "- Horizontal bars: [`barh()`](https://matplotlib.org/stable/api/_as_gen/matplotlib.pyplot.barh.html)"
   ]
  },
  {
   "cell_type": "markdown",
   "metadata": {},
   "source": [
    "*Example: Largest municipalities in Norway*\n",
    "\n",
    "- Categories: 'Oslo', 'Bergen', 'Trondheim', 'Stavanger'\n",
    "- Population: 717710, 291940,  214565, 149048"
   ]
  },
  {
   "cell_type": "markdown",
   "metadata": {},
   "source": [
    "*Example: Horizontal bar chart*"
   ]
  },
  {
   "attachments": {},
   "cell_type": "markdown",
   "metadata": {
    "pycharm": {
     "name": "#%% md\n"
    }
   },
   "source": [
    "***\n",
    "## Adding labels and annotations\n",
    "\n",
    "-   Titles: [`title()`](https://matplotlib.org/stable/api/_as_gen/matplotlib.pyplot.title.html) \n",
    "    and [`suptitle()`](https://matplotlib.org/stable/api/_as_gen/matplotlib.pyplot.suptitle.html) \n",
    "-   Axes labels: \n",
    "    [`xlabel()`](https://matplotlib.org/stable/api/_as_gen/matplotlib.pyplot.xlabel.html) \n",
    "    and [`ylabel()`](https://matplotlib.org/stable/api/_as_gen/matplotlib.pyplot.ylabel.html)\n",
    "-   Legend:\n",
    "    [`legend()`](https://matplotlib.org/stable/api/_as_gen/matplotlib.pyplot.legend.html)\n",
    "-   Add annotations (text): [`text()`](https://matplotlib.org/stable/api/_as_gen/matplotlib.pyplot.text.html)"
   ]
  },
  {
   "cell_type": "markdown",
   "metadata": {},
   "source": [
    "*Example: Simple plot with title, labels, etc.*"
   ]
  },
  {
   "attachments": {},
   "cell_type": "markdown",
   "metadata": {
    "pycharm": {
     "name": "#%% md\n"
    }
   },
   "source": [
    "***\n",
    "## Plot limits, ticks and tick labels\n",
    "\n",
    "-   Plot limits:\n",
    "    [`xlim()`](https://matplotlib.org/stable/api/_as_gen/matplotlib.pyplot.xlim.html) and \n",
    "    [`ylim()`](https://matplotlib.org/stable/api/_as_gen/matplotlib.pyplot.ylim.html)\n",
    "-   Ticks and tick labels:\n",
    "    [`xticks()`](https://matplotlib.org/stable/api/_as_gen/matplotlib.pyplot.xticks.html) \n",
    "    or [`yticks()`](https://matplotlib.org/stable/api/_as_gen/matplotlib.pyplot.yticks.html)\n"
   ]
  },
  {
   "cell_type": "markdown",
   "metadata": {},
   "source": [
    "*Example: Plot sine function*"
   ]
  },
  {
   "attachments": {},
   "cell_type": "markdown",
   "metadata": {},
   "source": [
    "***\n",
    "\n",
    "## Adding straight lines\n",
    "\n",
    "- Horizontal line: [`axhline()`](https://matplotlib.org/stable/api/_as_gen/matplotlib.pyplot.axhline.html)\n",
    "- Vertical line: [`axvline()`](https://matplotlib.org/stable/api/_as_gen/matplotlib.pyplot.axvline.html)\n",
    "- Generic line: [`axline()`](https://matplotlib.org/stable/api/_as_gen/matplotlib.pyplot.axline.html#matplotlib.pyplot.axline)"
   ]
  },
  {
   "attachments": {},
   "cell_type": "markdown",
   "metadata": {},
   "source": [
    "*Example: Adding horizontal and vertical lines to sine plot*"
   ]
  },
  {
   "attachments": {},
   "cell_type": "markdown",
   "metadata": {},
   "source": [
    "***\n",
    "## Object-oriented interface\n",
    "\n",
    "-   So far: \"Traditional\" interface inspired by Matlab\n",
    "-   Object-oriented approach: Operate on attributes of [`Figure`](https://matplotlib.org/stable/api/figure_api.html) and \n",
    "    [`Axes`](https://matplotlib.org/stable/api/axes_api.html)\n",
    "-   Need to obtain `Figure` and `Axes` objects by calling \n",
    "    [`subplots()`](https://matplotlib.org/stable/api/_as_gen/matplotlib.pyplot.subplots.html)\n",
    "-   Use methods of `Axes` object to plot data, e.g., \n",
    "    [`Axes.plot()`](https://matplotlib.org/stable/api/_as_gen/matplotlib.axes.Axes.plot.html)"
   ]
  },
  {
   "cell_type": "markdown",
   "metadata": {},
   "source": [
    "*Example: Repeat labels/annotation example with OO interface*"
   ]
  },
  {
   "attachments": {},
   "cell_type": "markdown",
   "metadata": {
    "pycharm": {
     "name": "#%% md\n"
    }
   },
   "source": [
    "***\n",
    "## Working with multiple plots (axes)\n",
    "\n",
    "- Much more convenient using object-oriented interface\n",
    "- Specify desired number of rows & columns when calling [`subplots()`](https://matplotlib.org/stable/api/_as_gen/matplotlib.pyplot.subplots.html)"
   ]
  },
  {
   "attachments": {},
   "cell_type": "markdown",
   "metadata": {},
   "source": [
    "*Example: Create a plot with 2 panels*"
   ]
  },
  {
   "attachments": {},
   "cell_type": "markdown",
   "metadata": {
    "pycharm": {
     "name": "#%% md\n"
    }
   },
   "source": [
    "*Example: Create a figure with 2 rows and 2 columns*"
   ]
  },
  {
   "cell_type": "markdown",
   "metadata": {},
   "source": [
    "<div class=\"alert alert-info\">\n",
    "<h3> Your turn</h3>\n",
    "Create a figure with 3 columns (on a single row) and plot the following functions\n",
    "on the interval [0, 6]:\n",
    "<ol>\n",
    "    <li>Subplot 1: y = sin(x)</li>\n",
    "    <li>Subplot 2: y = sin(2*x)</li>\n",
    "    <li>Subplot 3: y = sin(4*x)</li>\n",
    "</ol>\n",
    "\n",
    "<i>Hint:</i> The sine function can be imported from NumPy as <TT>np.sin()</T>.\n",
    "</div>"
   ]
  },
  {
   "cell_type": "markdown",
   "metadata": {},
   "source": [
    "***\n",
    "# Plotting with pandas"
   ]
  },
  {
   "cell_type": "markdown",
   "metadata": {},
   "source": [
    "## Bar charts\n",
    "\n",
    "- Created with [`plot.bar()`](https://pandas.pydata.org/docs/reference/api/pandas.DataFrame.plot.bar.html)"
   ]
  },
  {
   "cell_type": "markdown",
   "metadata": {},
   "source": [
    "*Example: Plot bar chart of 15 largest municipalities*\n",
    "\n",
    "-   Read in data from `population_norway.csv`"
   ]
  },
  {
   "cell_type": "markdown",
   "metadata": {},
   "source": [
    "*Example: Plot bar chart of 15 largest municipalities w/o pandas*"
   ]
  },
  {
   "cell_type": "markdown",
   "metadata": {},
   "source": [
    "***\n",
    "## Plotting time series data\n",
    "\n",
    "- Created with [`DataFrame.plot()`](https://pandas.pydata.org/docs/reference/api/pandas.DataFrame.plot.html) "
   ]
  },
  {
   "cell_type": "markdown",
   "metadata": {},
   "source": [
    "*Example: plot US unemployment rate*\n",
    "\n",
    "-   Use column `UNRATE` from file `FRED.csv`"
   ]
  },
  {
   "cell_type": "markdown",
   "metadata": {},
   "source": [
    "<div class=\"alert alert-info\">\n",
    "<h3> Your turn</h3>\n",
    "Use the data files located in the folder <TT>../data/FRED</TT> to perform the following tasks:\n",
    "<ol>\n",
    "    <li>Load the macroeconomic time series data from <TT>FRED_monthly_all.csv</TT>.\n",
    "        <br/>\n",
    "        <i>Hint:</i> Use <TT>pd.read_csv(..., parse_dates=['DATE'])</TT> to automatically set parse strings as dates.\n",
    "        </li>\n",
    "    <li>Create a line plot, showing both the unemployment rate <TT>UNRATE</TT>\n",
    "        and the inflation rate <TT>INFLATION</TT> in a single graph.\n",
    "    </li>\n",
    "</ol>\n",
    "</div>"
   ]
  },
  {
   "cell_type": "markdown",
   "metadata": {},
   "source": [
    "***\n",
    "## Scatter plots\n",
    "\n",
    "-   Created with [`DataFrame.plot.scatter()`](https://pandas.pydata.org/docs/reference/api/pandas.DataFrame.plot.scatter.html)\n",
    "-   Can adjust style with many arguments accepted by Matplotlib's \n",
    "    [`scatter()`](https://matplotlib.org/stable/api/_as_gen/matplotlib.axes.Axes.scatter.html)\n",
    "-   Use [`scatter_matrix()`](https://pandas.pydata.org/docs/reference/api/pandas.plotting.scatter_matrix.html)\n",
    "    to create pairwise scatter plots for all columns in `DataFrame`"
   ]
  },
  {
   "cell_type": "markdown",
   "metadata": {},
   "source": [
    "*Example: Plot US inflation vs. unemployment*\n",
    "\n",
    "-   Use `Inflation` and `UNRATE` from `FRED.csv`"
   ]
  },
  {
   "cell_type": "markdown",
   "metadata": {},
   "source": [
    "*Example: 3-by-3 plot with `scatter_matrix()`* \n",
    "\n",
    "-   Use `GDP_growth`, `Inflation` and `UNRATE` from `FRED.csv`"
   ]
  }
 ],
 "metadata": {
  "kernelspec": {
   "display_name": "TECH2",
   "language": "python",
   "name": "python3"
  },
  "language_info": {
   "codemirror_mode": {
    "name": "ipython",
    "version": 3
   },
   "file_extension": ".py",
   "mimetype": "text/x-python",
   "name": "python",
   "nbconvert_exporter": "python",
   "pygments_lexer": "ipython3",
   "version": "3.12.7"
  }
 },
 "nbformat": 4,
 "nbformat_minor": 1
}
