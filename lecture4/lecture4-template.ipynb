{
 "cells": [
  {
   "cell_type": "markdown",
   "metadata": {},
   "source": [
    "# Concatenating and merging data\n",
    "\n",
    "Functions to concatenate or merge DataFrames in pandas:\n",
    "\n",
    "1. [`pd.concat()`](https://pandas.pydata.org/docs/reference/api/pandas.concat.html): combine multiple DataFrames by appending observations (rows) or columns\n",
    "2. [`pd.merge()`](https://pandas.pydata.org/docs/reference/api/pandas.merge.html): match observations from one DataFrame with observations from another DataFrame\n",
    "\n",
    "You can also consult the official \n",
    "[user guide](https://pandas.pydata.org/docs/user_guide/merging.html) \n",
    "and the pandas \n",
    "[cheat sheet](https://pandas.pydata.org/Pandas_Cheat_Sheet.pdf) \n",
    "for more information."
   ]
  },
  {
   "cell_type": "markdown",
   "metadata": {},
   "source": [
    "***\n",
    "## Concatenation"
   ]
  },
  {
   "cell_type": "markdown",
   "metadata": {},
   "source": [
    "### Concatenating Series"
   ]
  },
  {
   "cell_type": "markdown",
   "metadata": {},
   "source": [
    "*Example: Concatenating two Series along the row axis*\n",
    "\n",
    "- Specify `pd.concat(..., axis=0)` (or use default value)"
   ]
  },
  {
   "cell_type": "markdown",
   "metadata": {},
   "source": [
    "*Example: Concatenating along the column axis*\n",
    "\n",
    "- Specify `pd.concat(..., axis=1)`\n",
    "- Usually only makes sense for equal-length `Series`\n",
    "- Explicitly set columns names using `pd.concat(..., keys=...)`"
   ]
  },
  {
   "cell_type": "markdown",
   "metadata": {},
   "source": [
    "<div class=\"alert alert-info\">\n",
    "<h3> Your turn</h3>\n",
    "<ol>\n",
    "    <li>Create a new <TT>Series</TT> with observations <TT>['C1', 'C2']</TT>.</li>\n",
    "    <li>Using the previously created <TT>Series</TT> <TT>a</TT> and <TT>b</TT>, concatenate all three objects along the row axis and create a new (unique) index.</li>\n",
    "    <li>Repeat the previous step, but now concatenate along the column axis. Assign the column names <TT>'Column1'</TT>, <TT>'Column2'</TT>, and <TT>'Column3'</TT>.</li>\n",
    "</ol>\n",
    "</div>"
   ]
  },
  {
   "cell_type": "markdown",
   "metadata": {},
   "source": [
    "***\n",
    "### Concatenating DataFrames"
   ]
  },
  {
   "cell_type": "markdown",
   "metadata": {},
   "source": [
    "#### Concatenating along the column axis"
   ]
  },
  {
   "cell_type": "markdown",
   "metadata": {},
   "source": [
    "*Example: Concatenating two DataFrames along the column axis*\n",
    "\n",
    "- Specify `pd.concat(..., axis=1)`"
   ]
  },
  {
   "cell_type": "markdown",
   "metadata": {},
   "source": [
    "*Example: Concatenating a DataFrame and a Series*"
   ]
  },
  {
   "cell_type": "markdown",
   "metadata": {},
   "source": [
    "#### Concatenating along the row axis"
   ]
  },
  {
   "cell_type": "markdown",
   "metadata": {},
   "source": [
    "*Example: Concatenating rows with identical columns*"
   ]
  },
  {
   "cell_type": "markdown",
   "metadata": {},
   "source": [
    "*Example: Concatenating rows with different columns*\n",
    "\n",
    "- Creates `NaN`s for non-overlapping columns"
   ]
  },
  {
   "cell_type": "markdown",
   "metadata": {},
   "source": [
    "<div class=\"alert alert-info\">\n",
    "<h3> Your turn</h3>\n",
    "Use the data files located in the folder <TT>../data/FRED</TT> to perform the following tasks:\n",
    "<ol>\n",
    "    <li>Load the data in <TT>FRED_monthly_1950.csv</TT> and <TT>FRED_monthly_1960.csv</TT> into two different DataFrames.\n",
    "        The files contain monthly macroeconomic time series for the 1950s and 1960s, respectively.\n",
    "        <br/>\n",
    "        <i>Hint:</i> Use <TT>pd.read_csv(..., parse_dates=['DATE'])</TT> to automatically parse strings stored in the <TT>DATE</TT> column as dates.\n",
    "        </li>\n",
    "    <li>Concatenate these DataFrames along the row dimension to get a total of 240 observations.</li>\n",
    "    <li>Set the column <TT>DATE</TT> as index for the newly created DataFrame.</li>\n",
    "</ol>\n",
    "</div>"
   ]
  },
  {
   "cell_type": "markdown",
   "metadata": {},
   "source": [
    "***\n",
    "## Merging and joining data sets"
   ]
  },
  {
   "cell_type": "markdown",
   "metadata": {},
   "source": [
    "### Types of merges\n",
    "\n",
    "We can merge DataFrames `A` and `B` in various ways:\n",
    "\n",
    "1.  *one-to-one*: Unique keys in `A` and `B`\n",
    "2.  *many-to-one*: Unique keys in `A`, non-unique keys in `B`\n",
    "3.  *many-to-many*: Non-unique keys in both `A` and `B` (avoid this)"
   ]
  },
  {
   "cell_type": "markdown",
   "metadata": {},
   "source": [
    "### Implementation in pandas\n",
    "\n",
    "1.  [`pd.merge()`](https://pandas.pydata.org/docs/reference/api/pandas.merge.html): function that takes as argument the *two* DataFrames to be merged,\n",
    "    e.g.,\n",
    "    \n",
    "    ```python\n",
    "    result = pd.merge(df_A, df_B)\n",
    "    ```\n",
    "2.  [`df.merge()`](https://pandas.pydata.org/docs/reference/api/pandas.DataFrame.merge.html): method of a specific `DataFrame` object, takes the other `DataFrame` as argument, e.g.,\n",
    "    \n",
    "    ```python\n",
    "    result = df_A.merge(df_B)\n",
    "    ```\n"
   ]
  },
  {
   "cell_type": "markdown",
   "metadata": {},
   "source": [
    "### Controlling the resulting data set\n",
    "\n",
    "Merge methods:\n",
    "\n",
    "1.  `how='inner'` (_inner join_): _intersection_ of keys that are present in _both_ data sets\n",
    "2.  `how='outer'` (_outer join_): _union_ of keys present in either of the data sets\n",
    "3.  `how='left'` (_left join_): all identifiers from the _left_ data set are in the result\n",
    "4.  `how='right'` (_right join_): all identifiers from the _right_ data set are in the result\n",
    "\n",
    "Illustration: Each circle presents the keys present in the left (`df1`) or right (`df2`) DataFrames. The merge method controls which subset of keys is retained in the merge result."
   ]
  },
  {
   "cell_type": "markdown",
   "metadata": {},
   "source": [
    "![Join types](../lecture4/join-methods.png)"
   ]
  },
  {
   "cell_type": "markdown",
   "metadata": {},
   "source": [
    "***\n",
    "### Merging with `merge()`\n",
    "\n",
    "- Create two DataFrames with partially overlapping keys"
   ]
  },
  {
   "cell_type": "markdown",
   "metadata": {},
   "source": [
    "#### Using `pd.merge()`"
   ]
  },
  {
   "cell_type": "markdown",
   "metadata": {},
   "source": [
    "*Example: one-to-one merges*\n",
    "\n",
    "Merge using the following methods:\n",
    "\n",
    "1.  `inner` (default for `pd.merge()`)\n",
    "2.  `outer`\n",
    "3.  `left`\n",
    "4.  `right`"
   ]
  },
  {
   "cell_type": "markdown",
   "metadata": {},
   "source": [
    "#### Using `DataFrame.merge()`"
   ]
  },
  {
   "cell_type": "markdown",
   "metadata": {},
   "source": [
    "*Example: Merging with overlapping column names*\n",
    "\n",
    "- pandas automatically renames overlapping column names not used as keys\n",
    "- Can use `merge(..., suffixes=...)` to override default suffixes for _left_ and _right_"
   ]
  },
  {
   "cell_type": "markdown",
   "metadata": {},
   "source": [
    "<div class=\"alert alert-info\">\n",
    "<h3> Your turn</h3>\n",
    "Use the data files located in the folder <TT>../data/FRED</TT> to perform the following tasks:\n",
    "<ol>\n",
    "    <li>Load the data in <TT>CPI.csv</TT> and <TT>GDP.csv</TT> into two different DataFrames.\n",
    "        The files contain monthly data for the Consumer Price Index (CPI) and quarterly data for GDP, respectively.\n",
    "        <br/>\n",
    "        <i>Hint:</i> Use <TT>pd.read_csv(..., parse_dates=['DATE'])</TT> to automatically parse strings stored in the <TT>DATE</TT> column as dates.\n",
    "        </li>\n",
    "    <li>Merge the CPI with the GDP time series with \n",
    "    <a href=\"https://pandas.pydata.org/docs/reference/api/pandas.DataFrame.merge.html\"><TT>merge()</TT></a> \n",
    "    using a left join (<TT>how='left'</TT>). How many observations does the resulting DataFrame have?</li>\n",
    "    <li>Merge the CPI with the GDP time series with <TT>merge()</TT> using an inner join (<TT>how='inner'</TT>). How many observations does the resulting DataFrame have,\n",
    "        and why is this different from the previous case?</li>\n",
    "</ol>\n",
    "</div>"
   ]
  },
  {
   "cell_type": "markdown",
   "metadata": {},
   "source": [
    "***\n",
    "### Joining with `join()`\n",
    "\n",
    "The `DataFrame` method \n",
    "[`join()`](https://pandas.pydata.org/docs/reference/api/pandas.DataFrame.join.html) \n",
    "is a convenience wrapper around \n",
    "[`pd.merge()`](https://pandas.pydata.org/docs/reference/api/pandas.merge.html):\n",
    "\n",
    "1.  `join()` can be called _only_ directly on the `DataFrame` object\n",
    "2.  `join()` always operates on the _index_ of the other `DataFrame`\n",
    "3.  `join()` by default performs a `left` join, whereas `merge()` performs an `inner` join\n",
    "\n",
    "Use `join()` if you want to join DataFrames which have a similar index."
   ]
  },
  {
   "cell_type": "markdown",
   "metadata": {},
   "source": [
    "*Example: joining DataFrames*\n",
    "\n",
    "- Create two demo DataFrames with keys as index\n",
    "- `join()` with `how='left'` and `how='inner'`"
   ]
  },
  {
   "cell_type": "markdown",
   "metadata": {},
   "source": [
    "<div class=\"alert alert-info\">\n",
    "<h3> Your turn</h3>\n",
    "Use the data files located in the folder <TT>../data/FRED</TT> to perform the following tasks:\n",
    "<ol>\n",
    "    <li>Load the data in <TT>CPI.csv</TT> and <TT>GDP.csv</TT> into two different DataFrames.\n",
    "        The files contain monthly data for the Consumer Price Index (CPI) and quarterly data for GDP, respectively.\n",
    "        <br/>\n",
    "        <i>Hint:</i> Use <TT>pd.read_csv(..., parse_dates=['DATE'])</TT> to automatically parse strings stored in the <TT>DATE</TT> column as dates.\n",
    "        </li>\n",
    "    <li>Set the <TT>DATE</TT> column as the index for each of the two DataFrames.</li>\n",
    "    <li>Merge the CPI with the GDP time series with \n",
    "    <a href=\"https://pandas.pydata.org/docs/reference/api/pandas.DataFrame.join.html\"><TT>join()</TT></a>. \n",
    "    Do this with both a left and an inner join.</li>\n",
    "</ol>\n",
    "</div>"
   ]
  },
  {
   "cell_type": "markdown",
   "metadata": {},
   "source": [
    "***\n",
    "# Dealing with missing values\n",
    "\n",
    "- Often arise if concatenated / merged data sets don't contain the same columns or indices"
   ]
  },
  {
   "cell_type": "markdown",
   "metadata": {},
   "source": [
    "## Dropping missing values\n",
    "\n",
    "Missing values can be dropped by either\n",
    "\n",
    "1. Using [`dropna()`](https://pandas.pydata.org/docs/reference/api/pandas.DataFrame.dropna.html)\n",
    "    or selecting a subset of observations with a boolean operation such as \n",
    "    [`notna()`](https://pandas.pydata.org/docs/reference/api/pandas.DataFrame.notna.html).\n",
    "2. Avoiding the missing values in the first place, e.g., by using `merge(..., how='inner')`."
   ]
  },
  {
   "cell_type": "markdown",
   "metadata": {},
   "source": [
    "*Example: Dropping missing values*\n",
    "\n",
    "- Use _outer/left/right join_ and drop missing data with `dropna()`"
   ]
  },
  {
   "cell_type": "markdown",
   "metadata": {},
   "source": [
    "*Example: Avoiding missing values in the first place*\n",
    "\n",
    "- E.g., use _inner join_ when merging data sets"
   ]
  },
  {
   "cell_type": "markdown",
   "metadata": {},
   "source": [
    "## Filling missing values\n",
    "\n",
    "Instead of dropping data, we can impute missing values in various ways:\n",
    "\n",
    "1.  [`fillna()`](https://pandas.pydata.org/docs/reference/api/pandas.DataFrame.fillna.html): replace missing data with user-specified values\n",
    "2.  [`ffill()`](https://pandas.pydata.org/docs/reference/api/pandas.DataFrame.ffill.html) and \n",
    "    [`bfill()`](https://pandas.pydata.org/docs/reference/api/pandas.DataFrame.bfill.html): fill missing values\n",
    "    forward or backward from adjacent non-missing observations\n",
    "3.  [`interpolate()`](https://pandas.pydata.org/docs/reference/api/pandas.DataFrame.interpolate.html): interpolate missing values based on non-missing ones"
   ]
  },
  {
   "cell_type": "markdown",
   "metadata": {},
   "source": [
    "*Example: Replacing missing values with `fillna()`*\n",
    "\n",
    "- Specify one value for _entire_ `DataFrame`\n",
    "- Specify different value for each column"
   ]
  },
  {
   "cell_type": "markdown",
   "metadata": {},
   "source": [
    "*Example: forward- or backward-filling missing values*\n",
    "\n",
    "- Use [`ffill()`](https://pandas.pydata.org/docs/reference/api/pandas.DataFrame.ffill.html) to forward-fill\n",
    "- Use [`bfill()`](https://pandas.pydata.org/docs/reference/api/pandas.DataFrame.bfill.html) to backward-fill"
   ]
  },
  {
   "cell_type": "markdown",
   "metadata": {},
   "source": [
    "*Example: linear interpolation*\n",
    "\n",
    "- Use [`interpolate()`](https://pandas.pydata.org/docs/reference/api/pandas.Series.interpolate.html) to interpolate missing _numerical_ data"
   ]
  },
  {
   "cell_type": "markdown",
   "metadata": {},
   "source": [
    "<div class=\"alert alert-info\">\n",
    "<h3> Your turn</h3>\n",
    "Use the data files located in the folder <TT>../data/FRED</TT> to perform the following tasks:\n",
    "<ol>\n",
    "    <li>Load the data in <TT>CPI.csv</TT> and <TT>GDP.csv</TT> into two different DataFrames.\n",
    "        The files contain monthly data for the Consumer Price Index (CPI) and quarterly data for GDP, respectively.\n",
    "        <br/>\n",
    "        <i>Hint:</i> Use <TT>pd.read_csv(..., parse_dates=['DATE'])</TT> to automatically parse strings stored in the <TT>DATE</TT> column as dates.\n",
    "        </li>\n",
    "    <li>Merge the CPI with the GDP time series with <TT>merge()</TT> using a left join. This creates missing values in the <TT>GDP</TT>\n",
    "    column.</li>\n",
    "    <li>Impute the missing GDP values using <a href=\"https://pandas.pydata.org/docs/reference/api/pandas.Series.interpolate.html\"><TT>interpolate()</TT></a> \n",
    "    and replace the missing values in column <TT>GDP</TT>.</li>\n",
    "</ol>\n",
    "</div>"
   ]
  }
 ],
 "metadata": {
  "kernelspec": {
   "display_name": "TECH2",
   "language": "python",
   "name": "python3"
  },
  "language_info": {
   "codemirror_mode": {
    "name": "ipython",
    "version": 3
   },
   "file_extension": ".py",
   "mimetype": "text/x-python",
   "name": "python",
   "nbconvert_exporter": "python",
   "pygments_lexer": "ipython3",
   "version": "3.12.7"
  }
 },
 "nbformat": 4,
 "nbformat_minor": 2
}
